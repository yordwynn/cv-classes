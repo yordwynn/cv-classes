{
 "cells": [
  {
   "cell_type": "code",
   "execution_count": null,
   "metadata": {},
   "outputs": [],
   "source": [
    "from google.colab import drive\n",
    "\n",
    "drive.mount('/content/drive', force_remount=True)\n",
    "\n",
    "# введите имя папки на гугл диске, в которую вы сохранили папку vision,\n",
    "# содержащую .py файлы, а также папки datatasets и classifiers например,\n",
    "# cv/assignments/assignment1/vision/\n",
    "FOLDERNAME = None\n",
    "\n",
    "assert FOLDERNAME is not None, \"[!] Enter the foldername.\"\n",
    "\n",
    "%cd drive/My Drive\n",
    "%cp -r $FOLDERNAME ../../\n",
    "%cd ../../\n",
    "%cd vision/datasets/\n",
    "!bash get_datasets.sh\n",
    "%cd ../../"
   ]
  },
  {
   "cell_type": "markdown",
   "metadata": {
    "tags": [
     "pdf-title"
    ]
   },
   "source": [
    "# Многоклассовая классификация с помощью метода опорных векторов (SVM)\n",
    "\n",
    "*Выполните задания и сдайте их, сохранив полученные результаты, вместе со всем необходимым кодом, включая код за пределами этого ноутбука, например, код в папке `vision`*\n",
    "\n",
    "В этой лаборатрной вы:\n",
    "    \n",
    "- реализуете векторную версию функции потерь для SVM\n",
    "- реализуете векторную версию аналитического градиента для функции потерь\n",
    "- проверите свою реализацию с помощью численного нахождения градиента\n",
    "- используя проверочную выборку найдете скорость обучения и степерь регуляризации\n",
    "- оптимизируете функцию потерь с помощью стохастического градиентного спуска\n",
    "- визуализируете найденные матрицы выесов\n"
   ]
  },
  {
   "cell_type": "code",
   "execution_count": null,
   "metadata": {
    "tags": [
     "pdf-ignore"
    ]
   },
   "outputs": [],
   "source": [
    "# Этот код нужно запустить для предватирельных настроек\n",
    "\n",
    "import random\n",
    "import numpy as np\n",
    "from vision.data_utils import load_CIFAR10\n",
    "import matplotlib.pyplot as plt\n",
    "\n",
    "# Чтобы графики выводились в том же окне, а не новом\n",
    "%matplotlib inline\n",
    "plt.rcParams['figure.figsize'] = (10.0, 8.0) # размер изображений\n",
    "plt.rcParams['image.interpolation'] = 'nearest'\n",
    "plt.rcParams['image.cmap'] = 'gray'\n",
    "\n",
    "# http://stackoverflow.com/questions/1907993/autoreload-of-modules-in-ipython\n",
    "%load_ext autoreload\n",
    "%autoreload 2"
   ]
  },
  {
   "cell_type": "markdown",
   "metadata": {
    "tags": [
     "pdf-ignore"
    ]
   },
   "source": [
    "## CIFAR-10 Data Loading and Preprocessing"
   ]
  },
  {
   "cell_type": "code",
   "execution_count": null,
   "metadata": {
    "tags": [
     "pdf-ignore"
    ]
   },
   "outputs": [],
   "source": [
    "# Загрузка выборки CIFAR-10.\n",
    "cifar10_dir = 'vision/datasets/cifar-10-batches-py'\n",
    "\n",
    "# Для того, чтобы данные не дублировались при повторной загрузке (например, если\n",
    "# вы запускаете эту ячейку, не обновив сессию), очистим переменные\n",
    "try:\n",
    "   del X_train, y_train\n",
    "   del X_test, y_test\n",
    "   print('Загруженны данны удален')\n",
    "except:\n",
    "   pass\n",
    "\n",
    "X_train, y_train, X_test, y_test = load_CIFAR10(cifar10_dir)\n",
    "\n",
    "# Убедимся, что данные загружены и выведем размеры обучающих и тестовых данных\n",
    "print('Training data shape: ', X_train.shape)\n",
    "print('Training labels shape: ', y_train.shape)\n",
    "print('Test data shape: ', X_test.shape)\n",
    "print('Test labels shape: ', y_test.shape)"
   ]
  },
  {
   "cell_type": "code",
   "execution_count": null,
   "metadata": {
    "tags": [
     "pdf-ignore"
    ]
   },
   "outputs": [],
   "source": [
    "# Выведем несколько примеров из выборки\n",
    "# Покажем несколько изображений каждого класса\n",
    "classes = ['plane', 'car', 'bird', 'cat', 'deer', 'dog', 'frog', 'horse', 'ship', 'truck']\n",
    "num_classes = len(classes)\n",
    "samples_per_class = 7\n",
    "for y, cls in enumerate(classes):\n",
    "    idxs = np.flatnonzero(y_train == y)\n",
    "    idxs = np.random.choice(idxs, samples_per_class, replace=False)\n",
    "    for i, idx in enumerate(idxs):\n",
    "        plt_idx = i * num_classes + y + 1\n",
    "        plt.subplot(samples_per_class, num_classes, plt_idx)\n",
    "        plt.imshow(X_train[idx].astype('uint8'))\n",
    "        plt.axis('off')\n",
    "        if i == 0:\n",
    "            plt.title(cls)\n",
    "plt.show()"
   ]
  },
  {
   "cell_type": "code",
   "execution_count": null,
   "metadata": {
    "tags": [
     "pdf-ignore"
    ]
   },
   "outputs": [],
   "source": [
    "# Разделим данные на обучающую, проверочную и тестовую выборки. Также мы\n",
    "# выберем небольшую \"разработческую\" выборку - подмножество обучающих \n",
    "# данных, ее мы будем использовать, чтобы на этапе разработке ждать\n",
    "# резльутатов меньше.\n",
    "num_training = 49000\n",
    "num_validation = 1000\n",
    "num_test = 1000\n",
    "num_dev = 500\n",
    "\n",
    "# Проверочная выборка - num_validation изображений из обучающей выборки\n",
    "mask = range(num_training, num_training + num_validation)\n",
    "X_val = X_train[mask]\n",
    "y_val = y_train[mask]\n",
    "\n",
    "# Обучающая выборка - первые num_train изображений из оригинальной выборки.\n",
    "mask = range(num_training)\n",
    "X_train = X_train[mask]\n",
    "y_train = y_train[mask]\n",
    "\n",
    "# \"Разработческая\" выборка.\n",
    "mask = np.random.choice(num_training, num_dev, replace=False)\n",
    "X_dev = X_train[mask]\n",
    "y_dev = y_train[mask]\n",
    "\n",
    "# Тестовая выборка - перввые num_test изображений из оригинальной тестовой\n",
    "# выборки.\n",
    "mask = range(num_test)\n",
    "X_test = X_test[mask]\n",
    "y_test = y_test[mask]\n",
    "\n",
    "print('Train data shape: ', X_train.shape)\n",
    "print('Train labels shape: ', y_train.shape)\n",
    "print('Validation data shape: ', X_val.shape)\n",
    "print('Validation labels shape: ', y_val.shape)\n",
    "print('Test data shape: ', X_test.shape)\n",
    "print('Test labels shape: ', y_test.shape)"
   ]
  },
  {
   "cell_type": "code",
   "execution_count": null,
   "metadata": {
    "tags": [
     "pdf-ignore"
    ]
   },
   "outputs": [],
   "source": [
    "# Предобратка: преобразуем изображения в строки матрицы\n",
    "X_train = np.reshape(X_train, (X_train.shape[0], -1))\n",
    "X_val = np.reshape(X_val, (X_val.shape[0], -1))\n",
    "X_test = np.reshape(X_test, (X_test.shape[0], -1))\n",
    "X_dev = np.reshape(X_dev, (X_dev.shape[0], -1))\n",
    "\n",
    "# Выведем размерность полученных данных\n",
    "print('Training data shape: ', X_train.shape)\n",
    "print('Validation data shape: ', X_val.shape)\n",
    "print('Test data shape: ', X_test.shape)\n",
    "print('dev data shape: ', X_dev.shape)"
   ]
  },
  {
   "cell_type": "code",
   "execution_count": null,
   "metadata": {
    "tags": [
     "pdf-ignore-input"
    ]
   },
   "outputs": [],
   "source": [
    "# Предобработка: вычтем среднее значение пикселей в изобрежении\n",
    "# Для начала вычислим среднее значение на обучаюзщей выборке\n",
    "mean_image = np.mean(X_train, axis=0)\n",
    "print(mean_image[:10])\n",
    "plt.figure(figsize=(4,4))\n",
    "plt.imshow(mean_image.reshape((32,32,3)).astype('uint8')) # визуализация среднего\n",
    "plt.show()\n",
    "\n",
    "# Затем вычтем полученное средние из наших данных\n",
    "X_train -= mean_image\n",
    "X_val -= mean_image\n",
    "X_test -= mean_image\n",
    "X_dev -= mean_image\n",
    "\n",
    "# Допишем еще одно измерение, которе упростит работу с коэффициентом b\n",
    "X_train = np.hstack([X_train, np.ones((X_train.shape[0], 1))])\n",
    "X_val = np.hstack([X_val, np.ones((X_val.shape[0], 1))])\n",
    "X_test = np.hstack([X_test, np.ones((X_test.shape[0], 1))])\n",
    "X_dev = np.hstack([X_dev, np.ones((X_dev.shape[0], 1))])\n",
    "\n",
    "print(X_train.shape, X_val.shape, X_test.shape, X_dev.shape)"
   ]
  },
  {
   "cell_type": "markdown",
   "metadata": {},
   "source": [
    "## Классификатор SVM\n",
    "\n",
    "Код для этого раздела необходимо дописать в `vision/classifiers/linear_svm.py`. \n",
    "\n",
    "Функция `svm_loss_naive` реализует вычисление функции потерь с использованием циклов."
   ]
  },
  {
   "cell_type": "code",
   "execution_count": null,
   "metadata": {},
   "outputs": [],
   "source": [
    "# Проверим работу реализации, которую мы вам предоставили:\n",
    "from vision.classifiers.linear_svm import svm_loss_naive\n",
    "import time\n",
    "\n",
    "# сгенерируем матрицу из небольших чисел\n",
    "W = np.random.randn(3073, 10) * 0.0001 \n",
    "\n",
    "loss, grad = svm_loss_naive(W, X_dev, y_dev, 0.000005)\n",
    "print('loss: %f' % (loss, ))"
   ]
  },
  {
   "cell_type": "markdown",
   "metadata": {},
   "source": [
    "Полученный градинет (переменная `grad`) должен быть примерно равным 0. Вычислите и реализуйте градиент для функции потерь в функции `svm_loss_naive`.\n",
    "\n",
    "Для того, чтобы убедиться в том, что градиент найден верно, численно посчитаем градиент данной функции в некоторой точке и сравним его с нашей реализацией."
   ]
  },
  {
   "cell_type": "code",
   "execution_count": null,
   "metadata": {},
   "outputs": [],
   "source": [
    "# Вычислите аналитически градиент и проверьте его с помощью градиента,\n",
    "# посчитанного численно (уже реализовано)\n",
    "\n",
    "# Вычислим градиент и значение функции потерь для матрицы W.\n",
    "loss, grad = svm_loss_naive(W, X_dev, y_dev, 0.0)\n",
    "\n",
    "# Численно посчитаем градиент для несколькх выбранных измерений и сравним с\n",
    "# нашим градентом, полученным аналитически. Числа должны практичиски совпадать\n",
    "# для всех измерений.\n",
    "from vision.gradient_check import grad_check_sparse\n",
    "f = lambda w: svm_loss_naive(w, X_dev, y_dev, 0.0)[0]\n",
    "grad_numerical = grad_check_sparse(f, W, grad)\n",
    "\n",
    "# Еще раз проверим точность вычисления градиента, на этот раз задав коэффициент\n",
    "# регуляризации\n",
    "loss, grad = svm_loss_naive(W, X_dev, y_dev, 5e1)\n",
    "f = lambda w: svm_loss_naive(w, X_dev, y_dev, 5e1)[0]\n",
    "grad_numerical = grad_check_sparse(f, W, grad)"
   ]
  },
  {
   "cell_type": "code",
   "execution_count": null,
   "metadata": {
    "id": "vectorized_time_1",
    "scrolled": true
   },
   "outputs": [],
   "source": [
    "# Реализуйте функцию svm_loss_vectorized; для начала вичислите только значение\n",
    "# функции потерь\n",
    "tic = time.time()\n",
    "loss_naive, grad_naive = svm_loss_naive(W, X_dev, y_dev, 0.000005)\n",
    "toc = time.time()\n",
    "print('Naive loss: %e computed in %fs' % (loss_naive, toc - tic))\n",
    "\n",
    "from vision.classifiers.linear_svm import svm_loss_vectorized\n",
    "tic = time.time()\n",
    "loss_vectorized, _ = svm_loss_vectorized(W, X_dev, y_dev, 0.000005)\n",
    "toc = time.time()\n",
    "print('Vectorized loss: %e computed in %fs' % (loss_vectorized, toc - tic))\n",
    "\n",
    "# Значения функции потерь должны совпадать, но векторная реализаци должна\n",
    "# работать значительно быстрее\n",
    "print('difference: %f' % (loss_naive - loss_vectorized))"
   ]
  },
  {
   "cell_type": "code",
   "execution_count": null,
   "metadata": {
    "id": "vectorized_time_2"
   },
   "outputs": [],
   "source": [
    "# Завершите реализацию svm_loss_vectorized, вычислив градиент функции потерь с\n",
    "# помощью векторных операций\n",
    "\n",
    "# Градиенты, реализованные с помощью векторных операций и без них, должны\n",
    "# совпадать, но векторная реализация должна быть значительно быстрее\n",
    "tic = time.time()\n",
    "_, grad_naive = svm_loss_naive(W, X_dev, y_dev, 0.000005)\n",
    "toc = time.time()\n",
    "print('Naive loss and gradient: computed in %fs' % (toc - tic))\n",
    "\n",
    "tic = time.time()\n",
    "_, grad_vectorized = svm_loss_vectorized(W, X_dev, y_dev, 0.000005)\n",
    "toc = time.time()\n",
    "print('Vectorized loss and gradient: computed in %fs' % (toc - tic))\n",
    "\n",
    "difference = np.linalg.norm(grad_naive - grad_vectorized, ord='fro')\n",
    "print('difference: %f' % difference)"
   ]
  },
  {
   "cell_type": "markdown",
   "metadata": {},
   "source": [
    "### Стохастический градиентый спуск\n",
    "\n",
    "Теперь, когда у нас есть функции вычисляющие значение функции потерь и градент, мы можем приступить к реализации стохастического градиентного спуска. Код для этой части задания необходимо писать в файле `vision/classifiers/linear_classifier.py`."
   ]
  },
  {
   "cell_type": "code",
   "execution_count": null,
   "metadata": {
    "id": "sgd"
   },
   "outputs": [],
   "source": [
    "# В linear_classifier.py, реализуйте стохастический градиентный спуск в функции\n",
    "# LinearClassifier.train() и затем запустите его\n",
    "from vision.classifiers import LinearSVM\n",
    "svm = LinearSVM()\n",
    "tic = time.time()\n",
    "loss_hist = svm.train(X_train, y_train, learning_rate=1e-7, reg=2.5e4,\n",
    "                      num_iters=1500, verbose=True)\n",
    "toc = time.time()\n",
    "print('That took %fs' % (toc - tic))"
   ]
  },
  {
   "cell_type": "code",
   "execution_count": null,
   "metadata": {},
   "outputs": [],
   "source": [
    "# Выведем график зависимости функции потерь от номера итерации\n",
    "plt.plot(loss_hist)\n",
    "plt.xlabel('Iteration number')\n",
    "plt.ylabel('Loss value')\n",
    "plt.show()"
   ]
  },
  {
   "cell_type": "code",
   "execution_count": null,
   "metadata": {
    "id": "validate"
   },
   "outputs": [],
   "source": [
    "# Реализуйте функцию LinearSVM.predict и измерьте точность грассификации на\n",
    "# проверочной и тестовой выборках\n",
    "y_train_pred = svm.predict(X_train)\n",
    "print('training accuracy: %f' % (np.mean(y_train == y_train_pred), ))\n",
    "y_val_pred = svm.predict(X_val)\n",
    "print('validation accuracy: %f' % (np.mean(y_val == y_val_pred), ))"
   ]
  },
  {
   "cell_type": "code",
   "execution_count": null,
   "metadata": {
    "id": "tuning",
    "tags": [
     "code"
    ]
   },
   "outputs": [],
   "source": [
    "# Используя проверочную выборку (не тестовую!) настройте гиперпараметры -\n",
    "# регуляризацию и скорость обучения. Проведите эксперимент с разными диапазонами \n",
    "# значений регляризации и скорости обучения. Вы должны получить точность \n",
    "# классификации, равную примерно 0,39 на проверочной выборке.\n",
    "\n",
    "# Примечание: во время обучения могут возникнуть сообщения, содержащие слова \"runtime\", \"overflow\", это нормально.\n",
    "\n",
    "# results - это словарь, сопоставляющий кортежи вида (learning_rate, \n",
    "# regularization_strength) с кортежами вида (training_accuracy, \n",
    "# validation_accuracy). Точность - доля верно классифицированных изображений\n",
    "results = {}\n",
    "best_val = -1   # Наибольшее значение точности, которое вы смогли получить\n",
    "best_svm = None # Переменная, в которой будет хранится классификатор, давший наилудший результат\n",
    "\n",
    "################################################################################\n",
    "# TODO:                                                                        #\n",
    "# Напишите программу, которая выбирает наилучшие параметры на проверочной      #\n",
    "# выборке. Для каждой комбинации гиперпараметров, обучите SVM на тренировочной #\n",
    "# выборке, вычислите точность классификации на проверочной выборке, и          #\n",
    "# сохраните эти результаты в results. Также сохраните наилучшее значение       #\n",
    "# точности в                                                                   #\n",
    "# best_val и классификатор, давший эту точность сохраните в best_svm.          #\n",
    "#                                                                              #\n",
    "# Подсказка: используйте  небольше количество итераций (num_iters) при         #\n",
    "# разработке, чтобы ускорить процесс разработки. Когда убедитесь, что все      #\n",
    "# работает, увеличте количество итераций.                                      #\n",
    "################################################################################\n",
    "\n",
    "# Это лишь примерные значения гиперпараметров. Настраивайте их на свое усмотрение\n",
    "learning_rates = [1e-7, 5e-5]\n",
    "regularization_strengths = [2.5e4, 5e4]\n",
    "\n",
    "# *****START OF YOUR CODE (DO NOT DELETE/MODIFY THIS LINE)*****\n",
    "\n",
    "pass\n",
    "\n",
    "# *****END OF YOUR CODE (DO NOT DELETE/MODIFY THIS LINE)*****\n",
    "    \n",
    "# Print out results.\n",
    "for lr, reg in sorted(results):\n",
    "    train_accuracy, val_accuracy = results[(lr, reg)]\n",
    "    print('lr %e reg %e train accuracy: %f val accuracy: %f' % (\n",
    "                lr, reg, train_accuracy, val_accuracy))\n",
    "    \n",
    "print('best validation accuracy achieved during cross-validation: %f' % best_val)"
   ]
  },
  {
   "cell_type": "code",
   "execution_count": null,
   "metadata": {
    "tags": [
     "pdf-ignore-input"
    ]
   },
   "outputs": [],
   "source": [
    "# Визуализируем результат кросс-валидации\n",
    "import math\n",
    "import pdb\n",
    "\n",
    "x_scatter = [math.log10(x[0]) for x in results]\n",
    "y_scatter = [math.log10(x[1]) for x in results]\n",
    "\n",
    "# Попробуйте разобраться, что показывают данные графики\n",
    "marker_size = 100\n",
    "colors = [results[x][0] for x in results]\n",
    "plt.subplot(2, 1, 1)\n",
    "plt.tight_layout(pad=3)\n",
    "plt.scatter(x_scatter, y_scatter, marker_size, c=colors, cmap=plt.cm.coolwarm)\n",
    "plt.colorbar()\n",
    "plt.xlabel('log learning rate')\n",
    "plt.ylabel('log regularization strength')\n",
    "plt.title('CIFAR-10 training accuracy')\n",
    "\n",
    "colors = [results[x][1] for x in results]\n",
    "plt.subplot(2, 1, 2)\n",
    "plt.scatter(x_scatter, y_scatter, marker_size, c=colors, cmap=plt.cm.coolwarm)\n",
    "plt.colorbar()\n",
    "plt.xlabel('log learning rate')\n",
    "plt.ylabel('log regularization strength')\n",
    "plt.title('CIFAR-10 validation accuracy')\n",
    "plt.show()"
   ]
  },
  {
   "cell_type": "code",
   "execution_count": null,
   "metadata": {
    "id": "test"
   },
   "outputs": [],
   "source": [
    "# Вычислим точность наилучшего классификатора на тестовой выборке\n",
    "y_test_pred = best_svm.predict(X_test)\n",
    "test_accuracy = np.mean(y_test == y_test_pred)\n",
    "print('linear SVM on raw pixels final test set accuracy: %f' % test_accuracy)"
   ]
  },
  {
   "cell_type": "code",
   "execution_count": null,
   "metadata": {
    "tags": [
     "pdf-ignore-input"
    ]
   },
   "outputs": [],
   "source": [
    "# Визуализируем веса, полученные в результате обучения для каждого класса\n",
    "# В зависимости от того, на сколько аккуратно вы подобрали гиперпараметры,\n",
    "# результат может получиться красивым или не очень\n",
    "# Visualize the learned weights for each class\n",
    "w = best_svm.W[:-1,:] # уберем дополнительное измерение, которое мы добавили для обучения\n",
    "w = w.reshape(32, 32, 3, 10)\n",
    "w_min, w_max = np.min(w), np.max(w)\n",
    "classes = ['plane', 'car', 'bird', 'cat', 'deer', 'dog', 'frog', 'horse', 'ship', 'truck']\n",
    "for i in range(10):\n",
    "    plt.subplot(2, 5, i + 1)\n",
    "      \n",
    "    # Веса должны быть в диапазоне от 0 до 255\n",
    "    wimg = 255.0 * (w[:, :, :, i].squeeze() - w_min) / (w_max - w_min)\n",
    "    plt.imshow(wimg.astype('uint8'))\n",
    "    plt.axis('off')\n",
    "    plt.title(classes[i])"
   ]
  }
 ],
 "metadata": {},
 "nbformat": 4,
 "nbformat_minor": 4
}