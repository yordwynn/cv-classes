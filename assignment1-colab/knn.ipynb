{
 "cells": [
  {
   "cell_type": "code",
   "execution_count": null,
   "metadata": {},
   "outputs": [],
   "source": [
    "from google.colab import drive\n",
    "\n",
    "drive.mount('/content/drive', force_remount=True)\n",
    "\n",
    "# введите имя папки на гугл диске, в которую вы сохранили папку vision, содержащую .py файлы, а также папки datatasets и classifiers\n",
    "# например, cv/assignments/assignment1/vision/\n",
    "FOLDERNAME = None\n",
    "\n",
    "assert FOLDERNAME is not None \"[!] Enter the foldername.\"\n",
    "\n",
    "%cd drive/MyDrive\n",
    "%cp -r $FOLDERNAME ../../\n",
    "%cd ../../\n",
    "%cd cs231n/datasets/\n",
    "!bash get_datasets.sh\n",
    "%cd ../../"
   ]
  },
  {
   "cell_type": "markdown",
   "metadata": {
    "tags": [
     "pdf-title"
    ]
   },
   "source": [
    "# k-Nearest Neighbor (kNN)\n",
    "\n",
    "*Выполните задания и сдайте их, сохранив полученные результаты, вместе со всем необходимым кодом, включая код за пределами этого ноутбука, например, код в папке `vision`*\n",
    "\n",
    "kNN работает в две стадии:\n",
    "\n",
    "- Во время обучения классификатор просто запоминает обучающую выборку\n",
    "- Во время тестирования классификатор тестирует каждое изображение тестовой выборки, равнивая его с каждым изображением обучающей выборки и присваивая тестовому изображению класс, который чаще всего встречается среди k самых похожих изображений\n",
    "- k - это гиперпараметр, который находится с помощью кросс-валидации\n",
    "\n",
    "В этом задании вам нужно будет реализовать перечисленные шаги и изучить процесс классификации изображения, кросс-вализацию и на практике обедиться в эффективности выполнения векторынх операций."
   ]
  },
  {
   "cell_type": "code",
   "execution_count": null,
   "metadata": {
    "tags": [
     "pdf-ignore"
    ]
   },
   "outputs": [],
   "source": [
    "# Этот код нужно запустить для предватирельных настроек\n",
    "\n",
    "import random\n",
    "import numpy as np\n",
    "from cs231n.data_utils import load_CIFAR10\n",
    "import matplotlib.pyplot as plt\n",
    "\n",
    "# Чтобы графики выводились в том же окне, а не новом\n",
    "%matplotlib inline\n",
    "plt.rcParams['figure.figsize'] = (10.0, 8.0) # размер изображений\n",
    "plt.rcParams['image.interpolation'] = 'nearest'\n",
    "plt.rcParams['image.cmap'] = 'gray'\n",
    "\n",
    "# http://stackoverflow.com/questions/1907993/autoreload-of-modules-in-ipython\n",
    "%load_ext autoreload\n",
    "%autoreload 2"
   ]
  },
  {
   "cell_type": "code",
   "execution_count": null,
   "metadata": {
    "tags": [
     "pdf-ignore"
    ]
   },
   "outputs": [],
   "source": [
    "# Загрузка выборки CIFAR-10.\n",
    "cifar10_dir = 'vision/datasets/cifar-10-batches-py'\n",
    "\n",
    "# Для того, чтобы данные не дублировались при повторной загрузке (например, если вы запускаете эту ячейку, не обновив сессию), очистим переменные\n",
    "try:\n",
    "   del X_train, y_train\n",
    "   del X_test, y_test\n",
    "   print('Загруженны данны удален')\n",
    "except:\n",
    "   pass\n",
    "\n",
    "X_train, y_train, X_test, y_test = load_CIFAR10(cifar10_dir)\n",
    "\n",
    "# ДУдим Убедимся, что данные загружены и выведем размеры обучающих и тестовых данных# Убедимся, что данные загружены и выведем размеры обучающих и тестовых данных ', y_train.shape)\n",
    "print('Test data shape: ', X_test.shape)\n",
    "print('Test labels shape: ', y_test.shape)"
   ]
  },
  {
   "cell_type": "code",
   "execution_count": null,
   "metadata": {
    "tags": [
     "pdf-ignore"
    ]
   },
   "outputs": [],
   "source": [
    "# Выведем несколько примеров из выборки\n",
    "# Покажем несколько изображений каждого класса\n",
    "classes = ['plane', 'car', 'bird', 'cat', 'deer', 'dog', 'frog', 'horse', 'ship', 'truck']\n",
    "num_classes = len(classes)\n",
    "samples_per_class = 7\n",
    "for y, cls in enumerate(classes):\n",
    "    idxs = np.flatnonzero(y_train == y)\n",
    "    idxs = np.random.choice(idxs, samples_per_class, replace=False)\n",
    "    for i, idx in enumerate(idxs):\n",
    "        plt_idx = i * num_classes + y + 1\n",
    "        plt.subplot(samples_per_class, num_classes, plt_idx)\n",
    "        plt.imshow(X_train[idx].astype('uint8'))\n",
    "        plt.axis('off')\n",
    "        if i == 0:\n",
    "            plt.title(cls)\n",
    "plt.show()"
   ]
  },
  {
   "cell_type": "code",
   "execution_count": null,
   "metadata": {
    "tags": [
     "pdf-ignore"
    ]
   },
   "outputs": [],
   "source": [
    "# Выберем подмножество данных для того, чтобы обучение работало быстрее (меньше данных - меньше считать, но результат может оказаться хуже)\n",
    "num_training = 5000\n",
    "mask = list(range(num_training))\n",
    "X_train = X_train[mask]\n",
    "y_train = y_train[mask]\n",
    "\n",
    "num_test = 500\n",
    "mask = list(range(num_test))\n",
    "X_test = X_test[mask]\n",
    "y_test = y_test[mask]\n",
    "\n",
    "# Трансформируем изображения в векторы\n",
    "X_train = np.reshape(X_train, (X_train.shape[0], -1))\n",
    "X_test = np.reshape(X_test, (X_test.shape[0], -1))\n",
    "print(X_train.shape, X_test.shape)"
   ]
  },
  {
   "cell_type": "code",
   "execution_count": null,
   "metadata": {
    "tags": [
     "pdf-ignore"
    ]
   },
   "outputs": [],
   "source": [
    "from cs231n.classifiers import KNearestNeighbor\n",
    "\n",
    "# Создание экземпляра классификатора kNN\n",
    "# И обучение (которое в нашем случае сводится к запоминанию экземпляров обучающей выборки)"
   ]
  },
  {
   "cell_type": "markdown",
   "metadata": {},
   "source": [
    "Мы будем классифицировать тестовые данные с помощью классификатора kNN. Напомню, что процесс классификации состоит из двух этапов:\n",
    "\n",
    "1. Мы должны посчитать расстояние между всем тестовыми изображениями и всеми обучающими изображениями.\n",
    "2. Имея эти расстояния, для каждого тестового изображения необходимо найти k ближайших изобржаений обучающией выборки и проанализировать классы этих соседей для каждого тестового изображения.\n",
    "\n",
    "Мы начнем с вычисления матрицы расстояний между всем обучающими и тестовыми изображениями. Например, если у нас есть **Ntr** изображений обучающей выборки и **Nte** изображений, в результате мы должны получить матрицу **Nte x Ntr**, в которой каждоый элемент (i,j) - это расстояние между тестовым изображением i и обучающим изображением j.\n",
    "\n",
    "**Примечание: для вычисления расстояний в данном задании нельзя использовать функцию np.linalg.norm() из numpy.**\n",
    "\n",
    "Откройте `vision/classifiers/k_nearest_neighbor.py` и реализуйте функцию `compute_distances_two_loops` которая использует вложенные циклы (правда, очень неэффективные) для построения матрицы расстояний междоу всеми изображениями тестовой выборки и всеми изображениями обучающей выборки."
   ]
  },
  {
   "cell_type": "code",
   "execution_count": null,
   "metadata": {},
   "outputs": [],
   "source": [
    "# Откройте cs231n/classifiers/k_nearest_neighbor.py и реализуйте\n",
    "# compute_distances_two_loops\n",
    "\n",
    "# Протестируйте свою реализацию:\n",
    "dists = classifier.compute_distances_two_loops(X_test)\n",
    "print(dists.shape)"
   ]
  },
  {
   "cell_type": "code",
   "execution_count": null,
   "metadata": {},
   "outputs": [],
   "source": [
    "# Матриц расстояний можно визуализировать: каждая строка - это тестовое изображение,\n",
    "# показывающая расстояние между текущим тестовым изображением и всем обучающими изображениями\n",
    "plt.imshow(dists, interpolation='none')\n",
    "plt.show()"
   ]
  },
  {
   "cell_type": "markdown",
   "metadata": {
    "tags": [
     "pdf-inline"
    ]
   },
   "source": [
    "**Вопрос** \n",
    "\n",
    "Матрица расстояний имеет закономерности: некоторые строки или колонки выглядят ярче остальных (при этом черный цвет говорит о небольшом расстоянии между изображениями, а белый - о большом).\n",
    "\n",
    "- Какие изображения и почему двают яркие строки?\n",
    "- Какие изображения и почему дают яркие колонки?\n",
    "\n",
    "$\\color{blue}{\\textit Ответ:}$ *Дайте ответ здесь.*\n",
    "\n"
   ]
  },
  {
   "cell_type": "code",
   "execution_count": null,
   "metadata": {},
   "outputs": [],
   "source": [
    "# Теперь реализуйте функцию predict_labels и запустите код ниже:\n",
    "# k = 1 (самый ближайшй сосед).\n",
    "y_test_pred = classifier.predict_labels(dists, k=1)\n",
    "\n",
    "# Вычислите и выведете долю правильно классифицированных изображений\n",
    "num_correct = np.sum(y_test_pred == y_test)\n",
    "accuracy = float(num_correct) / num_test\n",
    "print('Got %d / %d correct => accuracy: %f' % (num_correct, num_test, accuracy))"
   ]
  },
  {
   "cell_type": "markdown",
   "metadata": {},
   "source": [
    "Точность должна равняться примерно `27%`. Теперь попробуем взять большее значение `k`, например `k = 5`:"
   ]
  },
  {
   "cell_type": "code",
   "execution_count": null,
   "metadata": {},
   "outputs": [],
   "source": [
    "y_test_pred = classifier.predict_labels(dists, k=5)\n",
    "num_correct = np.sum(y_test_pred == y_test)\n",
    "accuracy = float(num_correct) / num_test\n",
    "print('Got %d / %d correct => accuracy: %f' % (num_correct, num_test, accuracy))"
   ]
  },
  {
   "cell_type": "markdown",
   "metadata": {},
   "source": [
    "Точность распознавания должна быть чуть-чуть выше `k = 1`."
   ]
  },
  {
   "cell_type": "code",
   "execution_count": null,
   "metadata": {
    "tags": [
     "pdf-ignore-input"
    ]
   },
   "outputs": [],
   "source": [
    "# Теперь попытаемся ускорить вычисление матрицы расстояний частично используя векторные\n",
    "# операции, оставив только один цикл. реализуйте функцию compute_distances_one_loop\n",
    "# и запустите код ниже:\n",
    "dists_one = classifier.compute_distances_one_loop(X_test)\n",
    "\n",
    "# Чтобы убедиться в правильности векторной реализации, убедимся, что она совпадает\n",
    "# с нашей обычной реализацией. Для этого есть несколько способов, мы будем использовать\n",
    "# норму Фробениуса - квадратный корень из суммы квадратов разностей двух матриц,\n",
    "# вычесленных поэлементно. По-другому ее можено представить так: матрицы транформируются\n",
    "# в два вектора, и находится Евклидово расстояние между векторами\n",
    "difference = np.linalg.norm(dists - dists_one, ord='fro')\n",
    "print('One loop difference was: %f' % (difference, ))\n",
    "if difference < 0.001:\n",
    "    print('Good! The distance matrices are the same')\n",
    "else:\n",
    "    print('Uh-oh! The distance matrices are different')"
   ]
  },
  {
   "cell_type": "code",
   "execution_count": null,
   "metadata": {
    "scrolled": true,
    "tags": [
     "pdf-ignore-input"
    ]
   },
   "outputs": [],
   "source": [
    "# Теперь реализуйте полностью векторизированную версию в функции\n",
    "# compute_distances_no_loops и запустите код ниже:\n",
    "dists_two = classifier.compute_distances_no_loops(X_test)\n",
    "\n",
    "# проверим, что матрица расстояний совпадает с матрицей, полученной первым методом:\n",
    "difference = np.linalg.norm(dists - dists_two, ord='fro')\n",
    "print('No loop difference was: %f' % (difference, ))\n",
    "if difference < 0.001:\n",
    "    print('Good! The distance matrices are the same')\n",
    "else:\n",
    "    print('Uh-oh! The distance matrices are different')"
   ]
  },
  {
   "cell_type": "code",
   "execution_count": null,
   "metadata": {
    "id": "no_loop",
    "tags": [
     "pdf-ignore-input"
    ]
   },
   "outputs": [],
   "source": [
    "# Сравним производительность наших реализаций\n",
    "def time_function(f, *args):\n",
    "    \"\"\"\n",
    "    Call a function f with args and return the time (in seconds) that it took to execute.\n",
    "    \"\"\"\n",
    "    import time\n",
    "    tic = time.time()\n",
    "    f(*args)\n",
    "    toc = time.time()\n",
    "    return toc - tic\n",
    "\n",
    "two_loop_time = time_function(classifier.compute_distances_two_loops, X_test)\n",
    "print('Two loop version took %f seconds' % two_loop_time)\n",
    "\n",
    "one_loop_time = time_function(classifier.compute_distances_one_loop, X_test)\n",
    "print('One loop version took %f seconds' % one_loop_time)\n",
    "\n",
    "no_loop_time = time_function(classifier.compute_distances_no_loops, X_test)\n",
    "print('No loop version took %f seconds' % no_loop_time)\n",
    "\n",
    "# NOTE: в зависимости от испоьзуемого компьютера, вы можете не увидеть разницы в ускорении\n",
    "# при переходе от реализации с одним циклом к реализации без циклов, иногда вы можете даже\n",
    "# наблюдать падение производительности"
   ]
  },
  {
   "cell_type": "markdown",
   "metadata": {},
   "source": [
    "### Кросс-валидация (кросс-проверка)\n",
    "\n",
    "Мы реализовании классификатор, но произвольным образом задали `k = 5`. Ниже вам будет необходимо подобрать значение `k` с помощью кросс-валидации."
   ]
  },
  {
   "cell_type": "code",
   "execution_count": null,
   "metadata": {
    "tags": [
     "code"
    ]
   },
   "outputs": [],
   "source": [
    "num_folds = 5\n",
    "k_choices = [1, 3, 5, 8, 10, 12, 15, 20, 50, 100]\n",
    "\n",
    "X_train_folds = []\n",
    "y_train_folds = []\n",
    "################################################################################\n",
    "# TODO:                                                                        #\n",
    "# Разделите обучающие данные на части. после этого, X_train_folds и            #\n",
    "# y_train_folds должны быть списками длины num_folds, где y_train_folds[i] -   #\n",
    "# это вектор меток классов для изображений X_train_folds[i].                   #\n",
    "# Подсказка: используйте функцию numpy.array_split                             #\n",
    "################################################################################\n",
    "# *****START OF YOUR CODE (DO NOT DELETE/MODIFY THIS LINE)*****\n",
    "\n",
    "pass\n",
    "\n",
    "# *****END OF YOUR CODE (DO NOT DELETE/MODIFY THIS LINE)*****\n",
    "\n",
    "# Словарь, содержащий точность классификации для различных значений k, которые мы\n",
    "# находим в процессе кросс-валидации. После запуска кросс-валидации \n",
    "# k_to_accuracies[k] должен быть списком длины num_folds, состоящий из различных\n",
    "# значений точности, которые мы получаем применяя данное k.\n",
    "k_to_accuracies = {}\n",
    "\n",
    "\n",
    "################################################################################\n",
    "# TODO:                                                                        #\n",
    "# Выполните кросс-валидацию по для того, чтобы найти наилучшее значение k. Для # \n",
    "#  каждого возможного значения k, запустите классификатор num_folds, где в     #\n",
    "# каждом случае оставляйте одну часть для проверки точности, остальные - для   # \n",
    "# обучения. Сохраните точность распознавания для каждой проверочной части в    # \n",
    "# словаре k_to_accuracies.                                                     #\n",
    "################################################################################\n",
    "# *****START OF YOUR CODE (DO NOT DELETE/MODIFY THIS LINE)*****\n",
    "\n",
    "pass\n",
    "\n",
    "# *****END OF YOUR CODE (DO NOT DELETE/MODIFY THIS LINE)*****\n",
    "\n",
    "# Выведите вычесленные точности\n",
    "for k in sorted(k_to_accuracies):\n",
    "    for accuracy in k_to_accuracies[k]:\n",
    "        print('k = %d, accuracy = %f' % (k, accuracy))"
   ]
  },
  {
   "cell_type": "code",
   "execution_count": null,
   "metadata": {
    "tags": [
     "pdf-ignore-input"
    ]
   },
   "outputs": [],
   "source": [
    "# Выведите график, показывающий результаты экчперимента\n",
    "for k in k_choices:\n",
    "    accuracies = k_to_accuracies[k]\n",
    "    plt.scatter([k] * len(accuracies), accuracies)\n",
    "\n",
    "# Выведите линию тренда со \"свечами\", отражающими среднеквадратичное отклонение\n",
    "accuracies_mean = np.array([np.mean(v) for k,v in sorted(k_to_accuracies.items())])\n",
    "accuracies_std = np.array([np.std(v) for k,v in sorted(k_to_accuracies.items())])\n",
    "plt.errorbar(k_choices, accuracies_mean, yerr=accuracies_std)\n",
    "plt.title('Cross-validation on k')\n",
    "plt.xlabel('k')\n",
    "plt.ylabel('Cross-validation accuracy')\n",
    "plt.show()"
   ]
  },
  {
   "cell_type": "code",
   "execution_count": null,
   "metadata": {
    "id": "cross_validation"
   },
   "outputs": [],
   "source": [
    "# На основе результатов кросс-валидации выберите лучшее значение k, обучите\n",
    "# классифиатор снова на всех обучающих данных и проверьте точность на \n",
    "# тестовой выборке. Вы должны получить около 28% точности\n",
    "best_k = 1\n",
    "\n",
    "classifier = KNearestNeighbor()\n",
    "classifier.train(X_train, y_train)\n",
    "y_test_pred = classifier.predict(X_test, k=best_k)\n",
    "\n",
    "# Вычислите и выведите точность\n",
    "num_correct = np.sum(y_test_pred == y_test)\n",
    "accuracy = float(num_correct) / num_test\n",
    "print('Got %d / %d correct => accuracy: %f' % (num_correct, num_test, accuracy))"
   ]
  }
 ],
 "metadata": {
  "kernelspec": {
   "name": "Python 3.7.3 64-bit",
   "display_name": "Python 3.7.3 64-bit",
   "metadata": {
    "interpreter": {
     "hash": "32957bfa618a669e75d48bdc471cb7d25f551be2ea41a51f3a46b6452f8dc003"
    }
   }
  }
 },
 "nbformat": 4,
 "nbformat_minor": 4
}